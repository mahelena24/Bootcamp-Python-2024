{
 "cells": [
  {
   "cell_type": "code",
   "execution_count": 4,
   "metadata": {},
   "outputs": [
    {
     "name": "stdout",
     "output_type": "stream",
     "text": [
      "O resultado da operação de + será 5.0\n",
      "O resultado da operação de {op} será de \n"
     ]
    }
   ],
   "source": [
    "def calculadora(num_1, num_2, op):   \n",
    "       if op == '+':\n",
    "           operacao = num_1 + num_2\n",
    "           print(f\"O resultado da operação de {op} será {operacao}\")\n",
    "       elif op == '-':\n",
    "           operacao = num_1 - num_2\n",
    "           print(f\"O resultado da operação de {op} será {operacao}\")\n",
    "       elif op == '*':\n",
    "           operacao == num_1 * num_2\n",
    "           print(f\"O resultado da operação de {op} será {operacao}\")\n",
    "       elif op == '/':\n",
    "           if num_2 != 0:\n",
    "             operacao == num_1 / num_2\n",
    "             print(f\"O resultado da operação de {op} será {operacao}\")\n",
    "           else:\n",
    "               print(\"Divisão por zero. Tente novamente a operação.\")\n",
    "       else:\n",
    "           print(\"Operador inválido.\")\n",
    "        \n",
    "try:\n",
    "    num_1 = float(input(\"Digite o primeiro número:\"))\n",
    "    num_2 = float(input(\"Digite o segundo número:\"))\n",
    "    op = input(\"Digite o operador desejado:\")\n",
    "    \n",
    "    calculadora(num_1, num_2, op)\n",
    "except ValueError:\n",
    "    print(\"Erro: Entrada inválida. As entradas devem ser numéricas.\")\n"
   ]
  },
  {
   "cell_type": "code",
   "execution_count": 20,
   "metadata": {},
   "outputs": [
    {
     "name": "stdout",
     "output_type": "stream",
     "text": [
      "Maria, o KPI de um salário de -10.0 e um bonus de 20.0 será de 800.0\n"
     ]
    }
   ],
   "source": [
    "def calculo_kpi(nome, salario, bonus):\n",
    "    constante = 1000\n",
    "    KPI = constante + (salario*bonus)\n",
    "    print(f\"{nome}, o KPI de um salário de {salario} e um bonus de {bonus} será de {KPI}\")\n",
    "\n"
   ]
  }
 ],
 "metadata": {
  "kernelspec": {
   "display_name": "Python 3",
   "language": "python",
   "name": "python3"
  },
  "language_info": {
   "codemirror_mode": {
    "name": "ipython",
    "version": 3
   },
   "file_extension": ".py",
   "mimetype": "text/x-python",
   "name": "python",
   "nbconvert_exporter": "python",
   "pygments_lexer": "ipython3",
   "version": "3.12.2"
  }
 },
 "nbformat": 4,
 "nbformat_minor": 2
}
