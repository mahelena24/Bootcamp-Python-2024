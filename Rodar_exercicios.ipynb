{
 "cells": [
  {
   "cell_type": "code",
   "execution_count": 1,
   "metadata": {},
   "outputs": [
    {
     "name": "stdout",
     "output_type": "stream",
     "text": [
      "O nome não deve conter números.\n",
      "O nome não deve conter números.\n",
      "O nome não deve conter números.\n",
      "O nome não deve conter números.\n",
      "Nome válido: Maria\n",
      "Por favor, digite um número maior que zero.\n",
      "Por favor, digite um número maior que zero.\n",
      "Maria, o KPI de um salário de 100.0 e um bonus de 20.0 será de 3000.0\n"
     ]
    }
   ],
   "source": [
    "def calculo_kpi(nome, salario, bonus):\n",
    "    constante = 1000\n",
    "    KPI = constante + (salario*bonus)\n",
    "    print(f\"{nome}, o KPI de um salário de {salario} e um bonus de {bonus} será de {KPI}\")\n",
    "    \n",
    "# Verificando o nome digitado \n",
    "i = 0; j = 0; k = 0\n",
    "while i == 0:\n",
    " try:\n",
    "   nome = input(\"Digite o seu nome:\") \n",
    "   \n",
    "   if len(nome) == 0:\n",
    "       raise ValueError(\"O nome não pode estar vazio.\")\n",
    "   elif any(char.isdigit() for char in nome):\n",
    "        raise ValueError(\"O nome não deve conter números.\")\n",
    "   else:\n",
    "       print(\"Nome válido:\", nome)\n",
    "       i = i+1\n",
    " except ValueError as e:\n",
    "    print(e)\n",
    "\n",
    "# Verificando o salario digitado\n",
    "while j ==0:\n",
    " try:\n",
    "    salario = float(input(\"Digite o seu salário:\"))\n",
    "    \n",
    "    if salario <0:\n",
    "        print(\"Por favor, digite um número maior que zero.\")\n",
    "    else:\n",
    "        print(\"Salário válido:\", salario)\n",
    "        j = j+1\n",
    " except ValueError:\n",
    "    print(\"Entrada inválida para salário. Por favor, digite um valor válido.\")\n",
    "    \n",
    "# Verificando o bonus digitado\n",
    "while k == 0:\n",
    " try:\n",
    "    bonus = float(input(\"Digite o seu bonus recebido:\"))\n",
    "    \n",
    "    if bonus <0:\n",
    "        print(\"Por favor, digite um número maior que zero.\")\n",
    "        bonus = float(input(\"Digite o seu bonus novamente:\")) \n",
    "    else:\n",
    "        print(\"Bonus válido:\", bonus)\n",
    "        k = k+1 \n",
    " except ValueError:\n",
    "    print(\"Entrada inválida para bonus. Por favor, digite um valor válido.\")\n",
    "\n",
    " \n",
    "# Chamando a função para fazer o cálculo do KPI\n",
    "calculo_kpi(nome, salario, bonus)\n",
    "    "
   ]
  }
 ],
 "metadata": {
  "kernelspec": {
   "display_name": "Python 3",
   "language": "python",
   "name": "python3"
  },
  "language_info": {
   "codemirror_mode": {
    "name": "ipython",
    "version": 3
   },
   "file_extension": ".py",
   "mimetype": "text/x-python",
   "name": "python",
   "nbconvert_exporter": "python",
   "pygments_lexer": "ipython3",
   "version": "3.12.2"
  }
 },
 "nbformat": 4,
 "nbformat_minor": 2
}
